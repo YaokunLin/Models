{
  "nbformat": 4,
  "nbformat_minor": 0,
  "metadata": {
    "colab": {
      "name": "check Permutation.ipynb",
      "provenance": [],
      "authorship_tag": "ABX9TyNlfMbhGn2IoPUmtUUx23nm",
      "include_colab_link": true
    },
    "kernelspec": {
      "name": "python3",
      "display_name": "Python 3"
    },
    "language_info": {
      "name": "python"
    }
  },
  "cells": [
    {
      "cell_type": "markdown",
      "metadata": {
        "id": "view-in-github",
        "colab_type": "text"
      },
      "source": [
        "<a href=\"https://colab.research.google.com/github/YaokunLin/Models/blob/main/check_Permutation.ipynb\" target=\"_parent\"><img src=\"https://colab.research.google.com/assets/colab-badge.svg\" alt=\"Open In Colab\"/></a>"
      ]
    },
    {
      "cell_type": "code",
      "metadata": {
        "id": "_k4UxYPJwvi4"
      },
      "source": [
        "#Python\n",
        "\n",
        "def sortString(inputString):\n",
        "  listString=list(inputString)\n",
        "  return sorted(listString)\n",
        "  \n",
        "\n",
        "def isPermutation (aString,bString):\n",
        "  if len(aString)!=len(aString):\n",
        "    return False\n",
        "  else:\n",
        "     return sortString(aString) == sortString(bString)\n",
        "  \n"
      ],
      "execution_count": null,
      "outputs": []
    },
    {
      "cell_type": "code",
      "metadata": {
        "colab": {
          "base_uri": "https://localhost:8080/"
        },
        "id": "NmSwIUZ-7hAO",
        "outputId": "912b880a-95b9-41c7-b11e-8c9ec0350e5b"
      },
      "source": [
        "sortString(\"0Hello World!\")"
      ],
      "execution_count": null,
      "outputs": [
        {
          "output_type": "execute_result",
          "data": {
            "text/plain": [
              "[' ', '!', '0', 'H', 'W', 'd', 'e', 'l', 'l', 'l', 'o', 'o', 'r']"
            ]
          },
          "metadata": {
            "tags": []
          },
          "execution_count": 35
        }
      ]
    },
    {
      "cell_type": "code",
      "metadata": {
        "colab": {
          "base_uri": "https://localhost:8080/"
        },
        "id": "dcm2TafHxYaI",
        "outputId": "a09c347d-9bed-44f8-b1cd-d6c42713faf2"
      },
      "source": [
        "isPermutation(\"Hello\", \"elloh\")"
      ],
      "execution_count": null,
      "outputs": [
        {
          "output_type": "execute_result",
          "data": {
            "text/plain": [
              "False"
            ]
          },
          "metadata": {
            "tags": []
          },
          "execution_count": 31
        }
      ]
    },
    {
      "cell_type": "code",
      "metadata": {
        "colab": {
          "base_uri": "https://localhost:8080/"
        },
        "id": "WHHD413j-R3D",
        "outputId": "f920357b-5cc5-4fee-da5c-45b9387ae23d"
      },
      "source": [
        "isPermutation(\"hello\", \"elloh\")"
      ],
      "execution_count": null,
      "outputs": [
        {
          "output_type": "execute_result",
          "data": {
            "text/plain": [
              "True"
            ]
          },
          "metadata": {
            "tags": []
          },
          "execution_count": 37
        }
      ]
    },
    {
      "cell_type": "code",
      "metadata": {
        "colab": {
          "base_uri": "https://localhost:8080/"
        },
        "id": "-q-ESjVI5E2b",
        "outputId": "8b22178e-95de-4545-b83c-37d8ff581f04"
      },
      "source": [
        "isPermutation(\"helloooo\", \"hello\")"
      ],
      "execution_count": null,
      "outputs": [
        {
          "output_type": "execute_result",
          "data": {
            "text/plain": [
              "False"
            ]
          },
          "metadata": {
            "tags": []
          },
          "execution_count": 38
        }
      ]
    },
    {
      "cell_type": "code",
      "metadata": {
        "colab": {
          "base_uri": "https://localhost:8080/"
        },
        "id": "LXZWlmwg_9-_",
        "outputId": "830c9ce9-821e-486d-aeed-e56603148034"
      },
      "source": [
        "#Python\n",
        "\n",
        "def sortString(inputString):\n",
        "  listString=list(inputString)\n",
        "  return sorted(listString)\n",
        "  \n",
        "\n",
        "def isPermutation (aString,bString):\n",
        "  if len(aString)!=len(aString):\n",
        "    return False\n",
        "  else:\n",
        "     return sortString(aString) == sortString(bString)\n",
        "\n",
        "print(sortString(\"0Hello World!\"))\n",
        "\n",
        "print(isPermutation(\"hello\", \"elloh\"))\n",
        "\n",
        "print(isPermutation(\"helloooo\", \"hello\"))"
      ],
      "execution_count": null,
      "outputs": [
        {
          "output_type": "stream",
          "text": [
            "[' ', '!', '0', 'H', 'W', 'd', 'e', 'l', 'l', 'l', 'o', 'o', 'r']\n",
            "True\n",
            "False\n"
          ],
          "name": "stdout"
        }
      ]
    }
  ]
}