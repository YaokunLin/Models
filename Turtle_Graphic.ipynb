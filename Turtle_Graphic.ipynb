{
  "nbformat": 4,
  "nbformat_minor": 0,
  "metadata": {
    "colab": {
      "name": "Turtle Graphic.ipynb",
      "provenance": [],
      "collapsed_sections": [],
      "authorship_tag": "ABX9TyP8qq2DMn0pI+1MlOO+aNFR",
      "include_colab_link": true
    },
    "kernelspec": {
      "name": "python3",
      "display_name": "Python 3"
    },
    "language_info": {
      "name": "python"
    }
  },
  "cells": [
    {
      "cell_type": "markdown",
      "metadata": {
        "id": "view-in-github",
        "colab_type": "text"
      },
      "source": [
        "<a href=\"https://colab.research.google.com/github/YaokunLin/Models/blob/main/Turtle_Graphic.ipynb\" target=\"_parent\"><img src=\"https://colab.research.google.com/assets/colab-badge.svg\" alt=\"Open In Colab\"/></a>"
      ]
    },
    {
      "cell_type": "code",
      "metadata": {
        "colab": {
          "base_uri": "https://localhost:8080/"
        },
        "id": "2noM_u8KTfQF",
        "outputId": "678d21c0-6f86-4f6c-f53a-bff7ca5962da"
      },
      "source": [
        "!pip3 install ColabTurtle\n",
        "from ColabTurtle.Turtle import *\n",
        "\n"
      ],
      "execution_count": null,
      "outputs": [
        {
          "output_type": "stream",
          "text": [
            "Requirement already satisfied: ColabTurtle in /usr/local/lib/python3.7/dist-packages (2.1.0)\n"
          ],
          "name": "stdout"
        }
      ]
    },
    {
      "cell_type": "code",
      "metadata": {
        "id": "WQL5MNnShup6"
      },
      "source": [
        "import ColabTurtle.Turtle as tim\n",
        "from random import randint\n",
        "\n",
        "def initializeTimTheTurtle():\n",
        "  initializeTurtle()\n",
        "  penup()\n",
        "  goto(300, 20)\n",
        "  pendown()\n",
        "  tim.right(90)\n",
        "\n",
        "def drawShapes(num_sides):\n",
        "    tim.color(randint(0, 255),randint(0, 255),randint(0, 255))\n",
        "    for _ in range(num_sides):\n",
        "      angle = 360/num_sides\n",
        "      tim.forward(100)\n",
        "      tim.right(angle)\n",
        "    \n",
        "\n",
        "\n",
        "\n"
      ],
      "execution_count": null,
      "outputs": []
    },
    {
      "cell_type": "code",
      "metadata": {
        "colab": {
          "base_uri": "https://localhost:8080/",
          "height": 521
        },
        "id": "w8sQVQkzoQ58",
        "outputId": "7d50f642-128f-4675-f8a7-700948297340"
      },
      "source": [
        "initializeTimTheTurtle()"
      ],
      "execution_count": null,
      "outputs": [
        {
          "output_type": "display_data",
          "data": {
            "text/html": [
              "\n",
              "      <svg width=\"800\" height=\"500\">\n",
              "        <rect width=\"100%\" height=\"100%\" fill=\"black\"/>\n",
              "        \n",
              "        <g visibility=visible transform=\"rotate(90,300,20) translate(282, 2)\">\n",
              "<path style=\" stroke:none;fill-rule:evenodd;fill:white;fill-opacity:1;\" d=\"M 18.214844 0.632812 C 16.109375 1.800781 15.011719 4.074219 15.074219 7.132812 L 15.085938 7.652344 L 14.785156 7.496094 C 13.476562 6.824219 11.957031 6.671875 10.40625 7.066406 C 8.46875 7.550781 6.515625 9.15625 4.394531 11.992188 C 3.0625 13.777344 2.679688 14.636719 3.042969 15.027344 L 3.15625 15.152344 L 3.519531 15.152344 C 4.238281 15.152344 4.828125 14.886719 8.1875 13.039062 C 9.386719 12.378906 10.371094 11.839844 10.378906 11.839844 C 10.386719 11.839844 10.355469 11.929688 10.304688 12.035156 C 9.832031 13.09375 9.257812 14.820312 8.96875 16.078125 C 7.914062 20.652344 8.617188 24.53125 11.070312 27.660156 C 11.351562 28.015625 11.363281 27.914062 10.972656 28.382812 C 8.925781 30.84375 7.945312 33.28125 8.238281 35.1875 C 8.289062 35.527344 8.28125 35.523438 8.917969 35.523438 C 10.941406 35.523438 13.074219 34.207031 15.136719 31.6875 C 15.359375 31.417969 15.328125 31.425781 15.5625 31.574219 C 16.292969 32.042969 18.023438 32.964844 18.175781 32.964844 C 18.335938 32.964844 19.941406 32.210938 20.828125 31.71875 C 20.996094 31.625 21.136719 31.554688 21.136719 31.558594 C 21.203125 31.664062 21.898438 32.414062 22.222656 32.730469 C 23.835938 34.300781 25.5625 35.132812 27.582031 35.300781 C 27.90625 35.328125 27.9375 35.308594 28.007812 34.984375 C 28.382812 33.242188 27.625 30.925781 25.863281 28.425781 L 25.542969 27.96875 L 25.699219 27.785156 C 28.945312 23.960938 29.132812 18.699219 26.257812 11.96875 L 26.207031 11.84375 L 27.945312 12.703125 C 31.53125 14.476562 32.316406 14.800781 33.03125 14.800781 C 33.976562 14.800781 33.78125 13.9375 32.472656 12.292969 C 28.519531 7.355469 25.394531 5.925781 21.921875 7.472656 L 21.558594 7.636719 L 21.578125 7.542969 C 21.699219 6.992188 21.761719 5.742188 21.699219 5.164062 C 21.496094 3.296875 20.664062 1.964844 19.003906 0.855469 C 18.480469 0.503906 18.457031 0.5 18.214844 0.632812\"/>\n",
              "</g>\n",
              "      </svg>\n",
              "    "
            ],
            "text/plain": [
              "<IPython.core.display.HTML object>"
            ]
          },
          "metadata": {
            "tags": []
          }
        }
      ]
    },
    {
      "cell_type": "code",
      "metadata": {
        "colab": {
          "base_uri": "https://localhost:8080/",
          "height": 521
        },
        "id": "QEYLpkoJj_u9",
        "outputId": "428e1300-dac4-42c2-e211-ed092ba28c32"
      },
      "source": [
        "initializeTimTheTurtle()\n",
        "drawShapes(3)"
      ],
      "execution_count": null,
      "outputs": [
        {
          "output_type": "display_data",
          "data": {
            "text/html": [
              "\n",
              "      <svg width=\"800\" height=\"500\">\n",
              "        <rect width=\"100%\" height=\"100%\" fill=\"black\"/>\n",
              "        <line x1=\"300\" y1=\"20\" x2=\"400.0\" y2=\"20.0\" stroke-linecap=\"round\" style=\"stroke:rgb(208,107,101);stroke-width:4\"/><line x1=\"400.0\" y1=\"20.0\" x2=\"350.0\" y2=\"106.603\" stroke-linecap=\"round\" style=\"stroke:rgb(208,107,101);stroke-width:4\"/><line x1=\"350.0\" y1=\"106.603\" x2=\"300.0\" y2=\"20.0\" stroke-linecap=\"round\" style=\"stroke:rgb(208,107,101);stroke-width:4\"/>\n",
              "        <g visibility=visible transform=\"rotate(90.0,300.0,20.0) translate(282.0, 2.0)\">\n",
              "<path style=\" stroke:none;fill-rule:evenodd;fill:rgb(208,107,101);fill-opacity:1;\" d=\"M 18.214844 0.632812 C 16.109375 1.800781 15.011719 4.074219 15.074219 7.132812 L 15.085938 7.652344 L 14.785156 7.496094 C 13.476562 6.824219 11.957031 6.671875 10.40625 7.066406 C 8.46875 7.550781 6.515625 9.15625 4.394531 11.992188 C 3.0625 13.777344 2.679688 14.636719 3.042969 15.027344 L 3.15625 15.152344 L 3.519531 15.152344 C 4.238281 15.152344 4.828125 14.886719 8.1875 13.039062 C 9.386719 12.378906 10.371094 11.839844 10.378906 11.839844 C 10.386719 11.839844 10.355469 11.929688 10.304688 12.035156 C 9.832031 13.09375 9.257812 14.820312 8.96875 16.078125 C 7.914062 20.652344 8.617188 24.53125 11.070312 27.660156 C 11.351562 28.015625 11.363281 27.914062 10.972656 28.382812 C 8.925781 30.84375 7.945312 33.28125 8.238281 35.1875 C 8.289062 35.527344 8.28125 35.523438 8.917969 35.523438 C 10.941406 35.523438 13.074219 34.207031 15.136719 31.6875 C 15.359375 31.417969 15.328125 31.425781 15.5625 31.574219 C 16.292969 32.042969 18.023438 32.964844 18.175781 32.964844 C 18.335938 32.964844 19.941406 32.210938 20.828125 31.71875 C 20.996094 31.625 21.136719 31.554688 21.136719 31.558594 C 21.203125 31.664062 21.898438 32.414062 22.222656 32.730469 C 23.835938 34.300781 25.5625 35.132812 27.582031 35.300781 C 27.90625 35.328125 27.9375 35.308594 28.007812 34.984375 C 28.382812 33.242188 27.625 30.925781 25.863281 28.425781 L 25.542969 27.96875 L 25.699219 27.785156 C 28.945312 23.960938 29.132812 18.699219 26.257812 11.96875 L 26.207031 11.84375 L 27.945312 12.703125 C 31.53125 14.476562 32.316406 14.800781 33.03125 14.800781 C 33.976562 14.800781 33.78125 13.9375 32.472656 12.292969 C 28.519531 7.355469 25.394531 5.925781 21.921875 7.472656 L 21.558594 7.636719 L 21.578125 7.542969 C 21.699219 6.992188 21.761719 5.742188 21.699219 5.164062 C 21.496094 3.296875 20.664062 1.964844 19.003906 0.855469 C 18.480469 0.503906 18.457031 0.5 18.214844 0.632812\"/>\n",
              "</g>\n",
              "      </svg>\n",
              "    "
            ],
            "text/plain": [
              "<IPython.core.display.HTML object>"
            ]
          },
          "metadata": {
            "tags": []
          }
        }
      ]
    },
    {
      "cell_type": "code",
      "metadata": {
        "colab": {
          "base_uri": "https://localhost:8080/",
          "height": 521
        },
        "id": "W7ugtdZqkQNm",
        "outputId": "8e89f3b6-ac83-4f21-9444-3d4058192dc7"
      },
      "source": [
        "initializeTimTheTurtle()\n",
        "drawShapes(4)"
      ],
      "execution_count": null,
      "outputs": [
        {
          "output_type": "display_data",
          "data": {
            "text/html": [
              "\n",
              "      <svg width=\"800\" height=\"500\">\n",
              "        <rect width=\"100%\" height=\"100%\" fill=\"black\"/>\n",
              "        <line x1=\"300\" y1=\"20\" x2=\"400.0\" y2=\"20.0\" stroke-linecap=\"round\" style=\"stroke:rgb(59,66,112);stroke-width:4\"/><line x1=\"400.0\" y1=\"20.0\" x2=\"400.0\" y2=\"120.0\" stroke-linecap=\"round\" style=\"stroke:rgb(59,66,112);stroke-width:4\"/><line x1=\"400.0\" y1=\"120.0\" x2=\"300.0\" y2=\"120.0\" stroke-linecap=\"round\" style=\"stroke:rgb(59,66,112);stroke-width:4\"/><line x1=\"300.0\" y1=\"120.0\" x2=\"300.0\" y2=\"20.0\" stroke-linecap=\"round\" style=\"stroke:rgb(59,66,112);stroke-width:4\"/>\n",
              "        <g visibility=visible transform=\"rotate(90.0,300.0,20.0) translate(282.0, 2.0)\">\n",
              "<path style=\" stroke:none;fill-rule:evenodd;fill:rgb(59,66,112);fill-opacity:1;\" d=\"M 18.214844 0.632812 C 16.109375 1.800781 15.011719 4.074219 15.074219 7.132812 L 15.085938 7.652344 L 14.785156 7.496094 C 13.476562 6.824219 11.957031 6.671875 10.40625 7.066406 C 8.46875 7.550781 6.515625 9.15625 4.394531 11.992188 C 3.0625 13.777344 2.679688 14.636719 3.042969 15.027344 L 3.15625 15.152344 L 3.519531 15.152344 C 4.238281 15.152344 4.828125 14.886719 8.1875 13.039062 C 9.386719 12.378906 10.371094 11.839844 10.378906 11.839844 C 10.386719 11.839844 10.355469 11.929688 10.304688 12.035156 C 9.832031 13.09375 9.257812 14.820312 8.96875 16.078125 C 7.914062 20.652344 8.617188 24.53125 11.070312 27.660156 C 11.351562 28.015625 11.363281 27.914062 10.972656 28.382812 C 8.925781 30.84375 7.945312 33.28125 8.238281 35.1875 C 8.289062 35.527344 8.28125 35.523438 8.917969 35.523438 C 10.941406 35.523438 13.074219 34.207031 15.136719 31.6875 C 15.359375 31.417969 15.328125 31.425781 15.5625 31.574219 C 16.292969 32.042969 18.023438 32.964844 18.175781 32.964844 C 18.335938 32.964844 19.941406 32.210938 20.828125 31.71875 C 20.996094 31.625 21.136719 31.554688 21.136719 31.558594 C 21.203125 31.664062 21.898438 32.414062 22.222656 32.730469 C 23.835938 34.300781 25.5625 35.132812 27.582031 35.300781 C 27.90625 35.328125 27.9375 35.308594 28.007812 34.984375 C 28.382812 33.242188 27.625 30.925781 25.863281 28.425781 L 25.542969 27.96875 L 25.699219 27.785156 C 28.945312 23.960938 29.132812 18.699219 26.257812 11.96875 L 26.207031 11.84375 L 27.945312 12.703125 C 31.53125 14.476562 32.316406 14.800781 33.03125 14.800781 C 33.976562 14.800781 33.78125 13.9375 32.472656 12.292969 C 28.519531 7.355469 25.394531 5.925781 21.921875 7.472656 L 21.558594 7.636719 L 21.578125 7.542969 C 21.699219 6.992188 21.761719 5.742188 21.699219 5.164062 C 21.496094 3.296875 20.664062 1.964844 19.003906 0.855469 C 18.480469 0.503906 18.457031 0.5 18.214844 0.632812\"/>\n",
              "</g>\n",
              "      </svg>\n",
              "    "
            ],
            "text/plain": [
              "<IPython.core.display.HTML object>"
            ]
          },
          "metadata": {
            "tags": []
          }
        }
      ]
    },
    {
      "cell_type": "code",
      "metadata": {
        "colab": {
          "base_uri": "https://localhost:8080/",
          "height": 822
        },
        "id": "smOKtv-jjseN",
        "outputId": "eb7f0ac8-e8d5-47ba-d518-504891d07fe6"
      },
      "source": [
        "initializeTimTheTurtle()\n",
        "for num_sides in range(3,21,1):\n",
        "  print(num_sides)\n",
        "  drawShapes(num_sides)\n",
        "bgcolor(\"#efefef\")\n",
        "  "
      ],
      "execution_count": null,
      "outputs": [
        {
          "output_type": "display_data",
          "data": {
            "text/html": [
              "\n",
              "      <svg width=\"800\" height=\"500\">\n",
              "        <rect width=\"100%\" height=\"100%\" fill=\"#efefef\"/>\n",
              "        <line x1=\"300\" y1=\"20\" x2=\"400.0\" y2=\"20.0\" stroke-linecap=\"round\" style=\"stroke:rgb(181,138,247);stroke-width:4\"/><line x1=\"400.0\" y1=\"20.0\" x2=\"350.0\" y2=\"106.603\" stroke-linecap=\"round\" style=\"stroke:rgb(181,138,247);stroke-width:4\"/><line x1=\"350.0\" y1=\"106.603\" x2=\"300.0\" y2=\"20.0\" stroke-linecap=\"round\" style=\"stroke:rgb(181,138,247);stroke-width:4\"/><line x1=\"300.0\" y1=\"20.0\" x2=\"400.0\" y2=\"20.0\" stroke-linecap=\"round\" style=\"stroke:rgb(166,9,99);stroke-width:4\"/><line x1=\"400.0\" y1=\"20.0\" x2=\"400.0\" y2=\"120.0\" stroke-linecap=\"round\" style=\"stroke:rgb(166,9,99);stroke-width:4\"/><line x1=\"400.0\" y1=\"120.0\" x2=\"300.0\" y2=\"120.0\" stroke-linecap=\"round\" style=\"stroke:rgb(166,9,99);stroke-width:4\"/><line x1=\"300.0\" y1=\"120.0\" x2=\"300.0\" y2=\"20.0\" stroke-linecap=\"round\" style=\"stroke:rgb(166,9,99);stroke-width:4\"/><line x1=\"300.0\" y1=\"20.0\" x2=\"400.0\" y2=\"20.0\" stroke-linecap=\"round\" style=\"stroke:rgb(244,98,223);stroke-width:4\"/><line x1=\"400.0\" y1=\"20.0\" x2=\"430.902\" y2=\"115.106\" stroke-linecap=\"round\" style=\"stroke:rgb(244,98,223);stroke-width:4\"/><line x1=\"430.902\" y1=\"115.106\" x2=\"350.0\" y2=\"173.885\" stroke-linecap=\"round\" style=\"stroke:rgb(244,98,223);stroke-width:4\"/><line x1=\"350.0\" y1=\"173.885\" x2=\"269.098\" y2=\"115.106\" stroke-linecap=\"round\" style=\"stroke:rgb(244,98,223);stroke-width:4\"/><line x1=\"269.098\" y1=\"115.106\" x2=\"300.0\" y2=\"20.0\" stroke-linecap=\"round\" style=\"stroke:rgb(244,98,223);stroke-width:4\"/><line x1=\"300.0\" y1=\"20.0\" x2=\"400.0\" y2=\"20.0\" stroke-linecap=\"round\" style=\"stroke:rgb(28,109,147);stroke-width:4\"/><line x1=\"400.0\" y1=\"20.0\" x2=\"450.0\" y2=\"106.603\" stroke-linecap=\"round\" style=\"stroke:rgb(28,109,147);stroke-width:4\"/><line x1=\"450.0\" y1=\"106.603\" x2=\"400.0\" y2=\"193.206\" stroke-linecap=\"round\" style=\"stroke:rgb(28,109,147);stroke-width:4\"/><line x1=\"400.0\" y1=\"193.206\" x2=\"300.0\" y2=\"193.206\" stroke-linecap=\"round\" style=\"stroke:rgb(28,109,147);stroke-width:4\"/><line x1=\"300.0\" y1=\"193.206\" x2=\"250.0\" y2=\"106.603\" stroke-linecap=\"round\" style=\"stroke:rgb(28,109,147);stroke-width:4\"/><line x1=\"250.0\" y1=\"106.603\" x2=\"300.0\" y2=\"20.0\" stroke-linecap=\"round\" style=\"stroke:rgb(28,109,147);stroke-width:4\"/><line x1=\"300.0\" y1=\"20.0\" x2=\"400.0\" y2=\"20.0\" stroke-linecap=\"round\" style=\"stroke:rgb(224,49,253);stroke-width:4\"/><line x1=\"400.0\" y1=\"20.0\" x2=\"462.349\" y2=\"98.183\" stroke-linecap=\"round\" style=\"stroke:rgb(224,49,253);stroke-width:4\"/><line x1=\"462.349\" y1=\"98.183\" x2=\"440.097\" y2=\"195.676\" stroke-linecap=\"round\" style=\"stroke:rgb(224,49,253);stroke-width:4\"/><line x1=\"440.097\" y1=\"195.676\" x2=\"350.0\" y2=\"239.064\" stroke-linecap=\"round\" style=\"stroke:rgb(224,49,253);stroke-width:4\"/><line x1=\"350.0\" y1=\"239.064\" x2=\"259.903\" y2=\"195.676\" stroke-linecap=\"round\" style=\"stroke:rgb(224,49,253);stroke-width:4\"/><line x1=\"259.903\" y1=\"195.676\" x2=\"237.651\" y2=\"98.183\" stroke-linecap=\"round\" style=\"stroke:rgb(224,49,253);stroke-width:4\"/><line x1=\"237.651\" y1=\"98.183\" x2=\"300.0\" y2=\"20.0\" stroke-linecap=\"round\" style=\"stroke:rgb(224,49,253);stroke-width:4\"/><line x1=\"300.0\" y1=\"20.0\" x2=\"400.0\" y2=\"20.0\" stroke-linecap=\"round\" style=\"stroke:rgb(248,233,62);stroke-width:4\"/><line x1=\"400.0\" y1=\"20.0\" x2=\"470.711\" y2=\"90.711\" stroke-linecap=\"round\" style=\"stroke:rgb(248,233,62);stroke-width:4\"/><line x1=\"470.711\" y1=\"90.711\" x2=\"470.711\" y2=\"190.711\" stroke-linecap=\"round\" style=\"stroke:rgb(248,233,62);stroke-width:4\"/><line x1=\"470.711\" y1=\"190.711\" x2=\"400.0\" y2=\"261.422\" stroke-linecap=\"round\" style=\"stroke:rgb(248,233,62);stroke-width:4\"/><line x1=\"400.0\" y1=\"261.422\" x2=\"300.0\" y2=\"261.422\" stroke-linecap=\"round\" style=\"stroke:rgb(248,233,62);stroke-width:4\"/><line x1=\"300.0\" y1=\"261.422\" x2=\"229.289\" y2=\"190.711\" stroke-linecap=\"round\" style=\"stroke:rgb(248,233,62);stroke-width:4\"/><line x1=\"229.289\" y1=\"190.711\" x2=\"229.289\" y2=\"90.711\" stroke-linecap=\"round\" style=\"stroke:rgb(248,233,62);stroke-width:4\"/><line x1=\"229.289\" y1=\"90.711\" x2=\"300.0\" y2=\"20.0\" stroke-linecap=\"round\" style=\"stroke:rgb(248,233,62);stroke-width:4\"/><line x1=\"300.0\" y1=\"20.0\" x2=\"400.0\" y2=\"20.0\" stroke-linecap=\"round\" style=\"stroke:rgb(110,48,165);stroke-width:4\"/><line x1=\"400.0\" y1=\"20.0\" x2=\"476.604\" y2=\"84.279\" stroke-linecap=\"round\" style=\"stroke:rgb(110,48,165);stroke-width:4\"/><line x1=\"476.604\" y1=\"84.279\" x2=\"493.969\" y2=\"182.76\" stroke-linecap=\"round\" style=\"stroke:rgb(110,48,165);stroke-width:4\"/><line x1=\"493.969\" y1=\"182.76\" x2=\"443.969\" y2=\"269.363\" stroke-linecap=\"round\" style=\"stroke:rgb(110,48,165);stroke-width:4\"/><line x1=\"443.969\" y1=\"269.363\" x2=\"350.0\" y2=\"303.565\" stroke-linecap=\"round\" style=\"stroke:rgb(110,48,165);stroke-width:4\"/><line x1=\"350.0\" y1=\"303.565\" x2=\"256.031\" y2=\"269.363\" stroke-linecap=\"round\" style=\"stroke:rgb(110,48,165);stroke-width:4\"/><line x1=\"256.031\" y1=\"269.363\" x2=\"206.031\" y2=\"182.76\" stroke-linecap=\"round\" style=\"stroke:rgb(110,48,165);stroke-width:4\"/><line x1=\"206.031\" y1=\"182.76\" x2=\"223.396\" y2=\"84.279\" stroke-linecap=\"round\" style=\"stroke:rgb(110,48,165);stroke-width:4\"/><line x1=\"223.396\" y1=\"84.279\" x2=\"300.0\" y2=\"20.0\" stroke-linecap=\"round\" style=\"stroke:rgb(110,48,165);stroke-width:4\"/><line x1=\"300.0\" y1=\"20.0\" x2=\"400.0\" y2=\"20.0\" stroke-linecap=\"round\" style=\"stroke:rgb(59,232,141);stroke-width:4\"/><line x1=\"400.0\" y1=\"20.0\" x2=\"480.902\" y2=\"78.779\" stroke-linecap=\"round\" style=\"stroke:rgb(59,232,141);stroke-width:4\"/><line x1=\"480.902\" y1=\"78.779\" x2=\"511.804\" y2=\"173.885\" stroke-linecap=\"round\" style=\"stroke:rgb(59,232,141);stroke-width:4\"/><line x1=\"511.804\" y1=\"173.885\" x2=\"480.902\" y2=\"268.991\" stroke-linecap=\"round\" style=\"stroke:rgb(59,232,141);stroke-width:4\"/><line x1=\"480.902\" y1=\"268.991\" x2=\"400.0\" y2=\"327.77\" stroke-linecap=\"round\" style=\"stroke:rgb(59,232,141);stroke-width:4\"/><line x1=\"400.0\" y1=\"327.77\" x2=\"300.0\" y2=\"327.77\" stroke-linecap=\"round\" style=\"stroke:rgb(59,232,141);stroke-width:4\"/><line x1=\"300.0\" y1=\"327.77\" x2=\"219.098\" y2=\"268.991\" stroke-linecap=\"round\" style=\"stroke:rgb(59,232,141);stroke-width:4\"/><line x1=\"219.098\" y1=\"268.991\" x2=\"188.196\" y2=\"173.885\" stroke-linecap=\"round\" style=\"stroke:rgb(59,232,141);stroke-width:4\"/><line x1=\"188.196\" y1=\"173.885\" x2=\"219.098\" y2=\"78.779\" stroke-linecap=\"round\" style=\"stroke:rgb(59,232,141);stroke-width:4\"/><line x1=\"219.098\" y1=\"78.779\" x2=\"300.0\" y2=\"20.0\" stroke-linecap=\"round\" style=\"stroke:rgb(59,232,141);stroke-width:4\"/><line x1=\"300.0\" y1=\"20.0\" x2=\"400.0\" y2=\"20.0\" stroke-linecap=\"round\" style=\"stroke:rgb(59,49,232);stroke-width:4\"/><line x1=\"400.0\" y1=\"20.0\" x2=\"484.125\" y2=\"74.064\" stroke-linecap=\"round\" style=\"stroke:rgb(59,49,232);stroke-width:4\"/><line x1=\"484.125\" y1=\"74.064\" x2=\"525.667\" y2=\"165.027\" stroke-linecap=\"round\" style=\"stroke:rgb(59,49,232);stroke-width:4\"/><line x1=\"525.667\" y1=\"165.027\" x2=\"511.436\" y2=\"264.009\" stroke-linecap=\"round\" style=\"stroke:rgb(59,49,232);stroke-width:4\"/><line x1=\"511.436\" y1=\"264.009\" x2=\"445.95\" y2=\"339.584\" stroke-linecap=\"round\" style=\"stroke:rgb(59,49,232);stroke-width:4\"/><line x1=\"445.95\" y1=\"339.584\" x2=\"350.001\" y2=\"367.757\" stroke-linecap=\"round\" style=\"stroke:rgb(59,49,232);stroke-width:4\"/><line x1=\"350.001\" y1=\"367.757\" x2=\"254.052\" y2=\"339.584\" stroke-linecap=\"round\" style=\"stroke:rgb(59,49,232);stroke-width:4\"/><line x1=\"254.052\" y1=\"339.584\" x2=\"188.566\" y2=\"264.009\" stroke-linecap=\"round\" style=\"stroke:rgb(59,49,232);stroke-width:4\"/><line x1=\"188.566\" y1=\"264.009\" x2=\"174.335\" y2=\"165.027\" stroke-linecap=\"round\" style=\"stroke:rgb(59,49,232);stroke-width:4\"/><line x1=\"174.335\" y1=\"165.027\" x2=\"215.877\" y2=\"74.064\" stroke-linecap=\"round\" style=\"stroke:rgb(59,49,232);stroke-width:4\"/><line x1=\"215.877\" y1=\"74.064\" x2=\"300.002\" y2=\"20.0\" stroke-linecap=\"round\" style=\"stroke:rgb(59,49,232);stroke-width:4\"/><line x1=\"300.002\" y1=\"20.0\" x2=\"400.002\" y2=\"20.0\" stroke-linecap=\"round\" style=\"stroke:rgb(9,37,6);stroke-width:4\"/><line x1=\"400.002\" y1=\"20.0\" x2=\"486.605\" y2=\"70.0\" stroke-linecap=\"round\" style=\"stroke:rgb(9,37,6);stroke-width:4\"/><line x1=\"486.605\" y1=\"70.0\" x2=\"536.605\" y2=\"156.603\" stroke-linecap=\"round\" style=\"stroke:rgb(9,37,6);stroke-width:4\"/><line x1=\"536.605\" y1=\"156.603\" x2=\"536.605\" y2=\"256.603\" stroke-linecap=\"round\" style=\"stroke:rgb(9,37,6);stroke-width:4\"/><line x1=\"536.605\" y1=\"256.603\" x2=\"486.605\" y2=\"343.206\" stroke-linecap=\"round\" style=\"stroke:rgb(9,37,6);stroke-width:4\"/><line x1=\"486.605\" y1=\"343.206\" x2=\"400.002\" y2=\"393.206\" stroke-linecap=\"round\" style=\"stroke:rgb(9,37,6);stroke-width:4\"/><line x1=\"400.002\" y1=\"393.206\" x2=\"300.002\" y2=\"393.206\" stroke-linecap=\"round\" style=\"stroke:rgb(9,37,6);stroke-width:4\"/><line x1=\"300.002\" y1=\"393.206\" x2=\"213.399\" y2=\"343.206\" stroke-linecap=\"round\" style=\"stroke:rgb(9,37,6);stroke-width:4\"/><line x1=\"213.399\" y1=\"343.206\" x2=\"163.399\" y2=\"256.603\" stroke-linecap=\"round\" style=\"stroke:rgb(9,37,6);stroke-width:4\"/><line x1=\"163.399\" y1=\"256.603\" x2=\"163.399\" y2=\"156.603\" stroke-linecap=\"round\" style=\"stroke:rgb(9,37,6);stroke-width:4\"/><line x1=\"163.399\" y1=\"156.603\" x2=\"213.399\" y2=\"70.0\" stroke-linecap=\"round\" style=\"stroke:rgb(9,37,6);stroke-width:4\"/><line x1=\"213.399\" y1=\"70.0\" x2=\"300.002\" y2=\"20.0\" stroke-linecap=\"round\" style=\"stroke:rgb(9,37,6);stroke-width:4\"/><line x1=\"300.002\" y1=\"20.0\" x2=\"400.002\" y2=\"20.0\" stroke-linecap=\"round\" style=\"stroke:rgb(123,199,196);stroke-width:4\"/><line x1=\"400.002\" y1=\"20.0\" x2=\"488.548\" y2=\"66.472\" stroke-linecap=\"round\" style=\"stroke:rgb(123,199,196);stroke-width:4\"/><line x1=\"488.548\" y1=\"66.472\" x2=\"545.354\" y2=\"148.77\" stroke-linecap=\"round\" style=\"stroke:rgb(123,199,196);stroke-width:4\"/><line x1=\"545.354\" y1=\"148.77\" x2=\"557.408\" y2=\"248.041\" stroke-linecap=\"round\" style=\"stroke:rgb(123,199,196);stroke-width:4\"/><line x1=\"557.408\" y1=\"248.041\" x2=\"521.948\" y2=\"341.543\" stroke-linecap=\"round\" style=\"stroke:rgb(123,199,196);stroke-width:4\"/><line x1=\"521.948\" y1=\"341.543\" x2=\"447.097\" y2=\"407.855\" stroke-linecap=\"round\" style=\"stroke:rgb(123,199,196);stroke-width:4\"/><line x1=\"447.097\" y1=\"407.855\" x2=\"350.003\" y2=\"431.787\" stroke-linecap=\"round\" style=\"stroke:rgb(123,199,196);stroke-width:4\"/><line x1=\"350.003\" y1=\"431.787\" x2=\"252.909\" y2=\"407.855\" stroke-linecap=\"round\" style=\"stroke:rgb(123,199,196);stroke-width:4\"/><line x1=\"252.909\" y1=\"407.855\" x2=\"178.058\" y2=\"341.543\" stroke-linecap=\"round\" style=\"stroke:rgb(123,199,196);stroke-width:4\"/><line x1=\"178.058\" y1=\"341.543\" x2=\"142.598\" y2=\"248.041\" stroke-linecap=\"round\" style=\"stroke:rgb(123,199,196);stroke-width:4\"/><line x1=\"142.598\" y1=\"248.041\" x2=\"154.652\" y2=\"148.77\" stroke-linecap=\"round\" style=\"stroke:rgb(123,199,196);stroke-width:4\"/><line x1=\"154.652\" y1=\"148.77\" x2=\"211.458\" y2=\"66.472\" stroke-linecap=\"round\" style=\"stroke:rgb(123,199,196);stroke-width:4\"/><line x1=\"211.458\" y1=\"66.472\" x2=\"300.004\" y2=\"20.0\" stroke-linecap=\"round\" style=\"stroke:rgb(123,199,196);stroke-width:4\"/><line x1=\"300.004\" y1=\"20.0\" x2=\"400.004\" y2=\"20.0\" stroke-linecap=\"round\" style=\"stroke:rgb(254,170,215);stroke-width:4\"/><line x1=\"400.004\" y1=\"20.0\" x2=\"490.101\" y2=\"63.388\" stroke-linecap=\"round\" style=\"stroke:rgb(254,170,215);stroke-width:4\"/><line x1=\"490.101\" y1=\"63.388\" x2=\"552.45\" y2=\"141.571\" stroke-linecap=\"round\" style=\"stroke:rgb(254,170,215);stroke-width:4\"/><line x1=\"552.45\" y1=\"141.571\" x2=\"574.702\" y2=\"239.064\" stroke-linecap=\"round\" style=\"stroke:rgb(254,170,215);stroke-width:4\"/><line x1=\"574.702\" y1=\"239.064\" x2=\"552.45\" y2=\"336.557\" stroke-linecap=\"round\" style=\"stroke:rgb(254,170,215);stroke-width:4\"/><line x1=\"552.45\" y1=\"336.557\" x2=\"490.101\" y2=\"414.74\" stroke-linecap=\"round\" style=\"stroke:rgb(254,170,215);stroke-width:4\"/><line x1=\"490.101\" y1=\"414.74\" x2=\"400.004\" y2=\"458.128\" stroke-linecap=\"round\" style=\"stroke:rgb(254,170,215);stroke-width:4\"/><line x1=\"400.004\" y1=\"458.128\" x2=\"300.004\" y2=\"458.128\" stroke-linecap=\"round\" style=\"stroke:rgb(254,170,215);stroke-width:4\"/><line x1=\"300.004\" y1=\"458.128\" x2=\"209.907\" y2=\"414.74\" stroke-linecap=\"round\" style=\"stroke:rgb(254,170,215);stroke-width:4\"/><line x1=\"209.907\" y1=\"414.74\" x2=\"147.558\" y2=\"336.557\" stroke-linecap=\"round\" style=\"stroke:rgb(254,170,215);stroke-width:4\"/><line x1=\"147.558\" y1=\"336.557\" x2=\"125.306\" y2=\"239.064\" stroke-linecap=\"round\" style=\"stroke:rgb(254,170,215);stroke-width:4\"/><line x1=\"125.306\" y1=\"239.064\" x2=\"147.558\" y2=\"141.571\" stroke-linecap=\"round\" style=\"stroke:rgb(254,170,215);stroke-width:4\"/><line x1=\"147.558\" y1=\"141.571\" x2=\"209.907\" y2=\"63.388\" stroke-linecap=\"round\" style=\"stroke:rgb(254,170,215);stroke-width:4\"/><line x1=\"209.907\" y1=\"63.388\" x2=\"300.004\" y2=\"20.0\" stroke-linecap=\"round\" style=\"stroke:rgb(254,170,215);stroke-width:4\"/><line x1=\"300.004\" y1=\"20.0\" x2=\"400.004\" y2=\"20.0\" stroke-linecap=\"round\" style=\"stroke:rgb(109,129,249);stroke-width:4\"/><line x1=\"400.004\" y1=\"20.0\" x2=\"491.359\" y2=\"60.674\" stroke-linecap=\"round\" style=\"stroke:rgb(109,129,249);stroke-width:4\"/><line x1=\"491.359\" y1=\"60.674\" x2=\"558.272\" y2=\"134.988\" stroke-linecap=\"round\" style=\"stroke:rgb(109,129,249);stroke-width:4\"/><line x1=\"558.272\" y1=\"134.988\" x2=\"589.174\" y2=\"230.094\" stroke-linecap=\"round\" style=\"stroke:rgb(109,129,249);stroke-width:4\"/><line x1=\"589.174\" y1=\"230.094\" x2=\"578.721\" y2=\"329.546\" stroke-linecap=\"round\" style=\"stroke:rgb(109,129,249);stroke-width:4\"/><line x1=\"578.721\" y1=\"329.546\" x2=\"528.721\" y2=\"416.149\" stroke-linecap=\"round\" style=\"stroke:rgb(109,129,249);stroke-width:4\"/><line x1=\"528.721\" y1=\"416.149\" x2=\"447.819\" y2=\"474.928\" stroke-linecap=\"round\" style=\"stroke:rgb(109,129,249);stroke-width:4\"/><line x1=\"447.819\" y1=\"474.928\" x2=\"350.004\" y2=\"495.719\" stroke-linecap=\"round\" style=\"stroke:rgb(109,129,249);stroke-width:4\"/><line x1=\"350.004\" y1=\"495.719\" x2=\"252.189\" y2=\"474.928\" stroke-linecap=\"round\" style=\"stroke:rgb(109,129,249);stroke-width:4\"/><line x1=\"252.189\" y1=\"474.928\" x2=\"171.287\" y2=\"416.149\" stroke-linecap=\"round\" style=\"stroke:rgb(109,129,249);stroke-width:4\"/><line x1=\"171.287\" y1=\"416.149\" x2=\"121.287\" y2=\"329.546\" stroke-linecap=\"round\" style=\"stroke:rgb(109,129,249);stroke-width:4\"/><line x1=\"121.287\" y1=\"329.546\" x2=\"110.834\" y2=\"230.094\" stroke-linecap=\"round\" style=\"stroke:rgb(109,129,249);stroke-width:4\"/><line x1=\"110.834\" y1=\"230.094\" x2=\"141.736\" y2=\"134.988\" stroke-linecap=\"round\" style=\"stroke:rgb(109,129,249);stroke-width:4\"/><line x1=\"141.736\" y1=\"134.988\" x2=\"208.649\" y2=\"60.674\" stroke-linecap=\"round\" style=\"stroke:rgb(109,129,249);stroke-width:4\"/><line x1=\"208.649\" y1=\"60.674\" x2=\"300.004\" y2=\"20.0\" stroke-linecap=\"round\" style=\"stroke:rgb(109,129,249);stroke-width:4\"/><line x1=\"300.004\" y1=\"20.0\" x2=\"400.004\" y2=\"20.0\" stroke-linecap=\"round\" style=\"stroke:rgb(186,83,221);stroke-width:4\"/><line x1=\"400.004\" y1=\"20.0\" x2=\"492.392\" y2=\"58.268\" stroke-linecap=\"round\" style=\"stroke:rgb(186,83,221);stroke-width:4\"/><line x1=\"492.392\" y1=\"58.268\" x2=\"563.103\" y2=\"128.979\" stroke-linecap=\"round\" style=\"stroke:rgb(186,83,221);stroke-width:4\"/><line x1=\"563.103\" y1=\"128.979\" x2=\"601.371\" y2=\"221.367\" stroke-linecap=\"round\" style=\"stroke:rgb(186,83,221);stroke-width:4\"/><line x1=\"601.371\" y1=\"221.367\" x2=\"601.371\" y2=\"321.367\" stroke-linecap=\"round\" style=\"stroke:rgb(186,83,221);stroke-width:4\"/><line x1=\"601.371\" y1=\"321.367\" x2=\"563.103\" y2=\"413.755\" stroke-linecap=\"round\" style=\"stroke:rgb(186,83,221);stroke-width:4\"/><line x1=\"563.103\" y1=\"413.755\" x2=\"492.392\" y2=\"484.466\" stroke-linecap=\"round\" style=\"stroke:rgb(186,83,221);stroke-width:4\"/><line x1=\"492.392\" y1=\"484.466\" x2=\"400.004\" y2=\"522.734\" stroke-linecap=\"round\" style=\"stroke:rgb(186,83,221);stroke-width:4\"/><line x1=\"400.004\" y1=\"522.734\" x2=\"300.004\" y2=\"522.734\" stroke-linecap=\"round\" style=\"stroke:rgb(186,83,221);stroke-width:4\"/><line x1=\"300.004\" y1=\"522.734\" x2=\"207.616\" y2=\"484.466\" stroke-linecap=\"round\" style=\"stroke:rgb(186,83,221);stroke-width:4\"/><line x1=\"207.616\" y1=\"484.466\" x2=\"136.905\" y2=\"413.755\" stroke-linecap=\"round\" style=\"stroke:rgb(186,83,221);stroke-width:4\"/><line x1=\"136.905\" y1=\"413.755\" x2=\"98.637\" y2=\"321.367\" stroke-linecap=\"round\" style=\"stroke:rgb(186,83,221);stroke-width:4\"/><line x1=\"98.637\" y1=\"321.367\" x2=\"98.637\" y2=\"221.367\" stroke-linecap=\"round\" style=\"stroke:rgb(186,83,221);stroke-width:4\"/><line x1=\"98.637\" y1=\"221.367\" x2=\"136.905\" y2=\"128.979\" stroke-linecap=\"round\" style=\"stroke:rgb(186,83,221);stroke-width:4\"/><line x1=\"136.905\" y1=\"128.979\" x2=\"207.616\" y2=\"58.268\" stroke-linecap=\"round\" style=\"stroke:rgb(186,83,221);stroke-width:4\"/><line x1=\"207.616\" y1=\"58.268\" x2=\"300.004\" y2=\"20.0\" stroke-linecap=\"round\" style=\"stroke:rgb(186,83,221);stroke-width:4\"/><line x1=\"300.004\" y1=\"20.0\" x2=\"400.004\" y2=\"20.0\" stroke-linecap=\"round\" style=\"stroke:rgb(185,251,135);stroke-width:4\"/><line x1=\"400.004\" y1=\"20.0\" x2=\"493.251\" y2=\"56.124\" stroke-linecap=\"round\" style=\"stroke:rgb(185,251,135);stroke-width:4\"/><line x1=\"493.251\" y1=\"56.124\" x2=\"567.152\" y2=\"123.494\" stroke-linecap=\"round\" style=\"stroke:rgb(185,251,135);stroke-width:4\"/><line x1=\"567.152\" y1=\"123.494\" x2=\"611.726\" y2=\"213.01\" stroke-linecap=\"round\" style=\"stroke:rgb(185,251,135);stroke-width:4\"/><line x1=\"611.726\" y1=\"213.01\" x2=\"620.953\" y2=\"312.583\" stroke-linecap=\"round\" style=\"stroke:rgb(185,251,135);stroke-width:4\"/><line x1=\"620.953\" y1=\"312.583\" x2=\"593.587\" y2=\"408.766\" stroke-linecap=\"round\" style=\"stroke:rgb(185,251,135);stroke-width:4\"/><line x1=\"593.587\" y1=\"408.766\" x2=\"533.324\" y2=\"488.568\" stroke-linecap=\"round\" style=\"stroke:rgb(185,251,135);stroke-width:4\"/><line x1=\"533.324\" y1=\"488.568\" x2=\"448.302\" y2=\"541.211\" stroke-linecap=\"round\" style=\"stroke:rgb(185,251,135);stroke-width:4\"/><line x1=\"448.302\" y1=\"541.211\" x2=\"350.005\" y2=\"559.586\" stroke-linecap=\"round\" style=\"stroke:rgb(185,251,135);stroke-width:4\"/><line x1=\"350.005\" y1=\"559.586\" x2=\"251.708\" y2=\"541.211\" stroke-linecap=\"round\" style=\"stroke:rgb(185,251,135);stroke-width:4\"/><line x1=\"251.708\" y1=\"541.211\" x2=\"166.686\" y2=\"488.568\" stroke-linecap=\"round\" style=\"stroke:rgb(185,251,135);stroke-width:4\"/><line x1=\"166.686\" y1=\"488.568\" x2=\"106.423\" y2=\"408.766\" stroke-linecap=\"round\" style=\"stroke:rgb(185,251,135);stroke-width:4\"/><line x1=\"106.423\" y1=\"408.766\" x2=\"79.057\" y2=\"312.583\" stroke-linecap=\"round\" style=\"stroke:rgb(185,251,135);stroke-width:4\"/><line x1=\"79.057\" y1=\"312.583\" x2=\"88.284\" y2=\"213.01\" stroke-linecap=\"round\" style=\"stroke:rgb(185,251,135);stroke-width:4\"/><line x1=\"88.284\" y1=\"213.01\" x2=\"132.858\" y2=\"123.494\" stroke-linecap=\"round\" style=\"stroke:rgb(185,251,135);stroke-width:4\"/><line x1=\"132.858\" y1=\"123.494\" x2=\"206.759\" y2=\"56.124\" stroke-linecap=\"round\" style=\"stroke:rgb(185,251,135);stroke-width:4\"/><line x1=\"206.759\" y1=\"56.124\" x2=\"300.006\" y2=\"20.0\" stroke-linecap=\"round\" style=\"stroke:rgb(185,251,135);stroke-width:4\"/><line x1=\"300.006\" y1=\"20.0\" x2=\"400.006\" y2=\"20.0\" stroke-linecap=\"round\" style=\"stroke:rgb(164,27,18);stroke-width:4\"/><line x1=\"400.006\" y1=\"20.0\" x2=\"493.975\" y2=\"54.202\" stroke-linecap=\"round\" style=\"stroke:rgb(164,27,18);stroke-width:4\"/><line x1=\"493.975\" y1=\"54.202\" x2=\"570.579\" y2=\"118.481\" stroke-linecap=\"round\" style=\"stroke:rgb(164,27,18);stroke-width:4\"/><line x1=\"570.579\" y1=\"118.481\" x2=\"620.579\" y2=\"205.084\" stroke-linecap=\"round\" style=\"stroke:rgb(164,27,18);stroke-width:4\"/><line x1=\"620.579\" y1=\"205.084\" x2=\"637.944\" y2=\"303.565\" stroke-linecap=\"round\" style=\"stroke:rgb(164,27,18);stroke-width:4\"/><line x1=\"637.944\" y1=\"303.565\" x2=\"620.579\" y2=\"402.046\" stroke-linecap=\"round\" style=\"stroke:rgb(164,27,18);stroke-width:4\"/><line x1=\"620.579\" y1=\"402.046\" x2=\"570.579\" y2=\"488.649\" stroke-linecap=\"round\" style=\"stroke:rgb(164,27,18);stroke-width:4\"/><line x1=\"570.579\" y1=\"488.649\" x2=\"493.975\" y2=\"552.928\" stroke-linecap=\"round\" style=\"stroke:rgb(164,27,18);stroke-width:4\"/><line x1=\"493.975\" y1=\"552.928\" x2=\"400.006\" y2=\"587.13\" stroke-linecap=\"round\" style=\"stroke:rgb(164,27,18);stroke-width:4\"/><line x1=\"400.006\" y1=\"587.13\" x2=\"300.006\" y2=\"587.13\" stroke-linecap=\"round\" style=\"stroke:rgb(164,27,18);stroke-width:4\"/><line x1=\"300.006\" y1=\"587.13\" x2=\"206.037\" y2=\"552.928\" stroke-linecap=\"round\" style=\"stroke:rgb(164,27,18);stroke-width:4\"/><line x1=\"206.037\" y1=\"552.928\" x2=\"129.433\" y2=\"488.649\" stroke-linecap=\"round\" style=\"stroke:rgb(164,27,18);stroke-width:4\"/><line x1=\"129.433\" y1=\"488.649\" x2=\"79.433\" y2=\"402.046\" stroke-linecap=\"round\" style=\"stroke:rgb(164,27,18);stroke-width:4\"/><line x1=\"79.433\" y1=\"402.046\" x2=\"62.068\" y2=\"303.565\" stroke-linecap=\"round\" style=\"stroke:rgb(164,27,18);stroke-width:4\"/><line x1=\"62.068\" y1=\"303.565\" x2=\"79.433\" y2=\"205.084\" stroke-linecap=\"round\" style=\"stroke:rgb(164,27,18);stroke-width:4\"/><line x1=\"79.433\" y1=\"205.084\" x2=\"129.433\" y2=\"118.481\" stroke-linecap=\"round\" style=\"stroke:rgb(164,27,18);stroke-width:4\"/><line x1=\"129.433\" y1=\"118.481\" x2=\"206.037\" y2=\"54.202\" stroke-linecap=\"round\" style=\"stroke:rgb(164,27,18);stroke-width:4\"/><line x1=\"206.037\" y1=\"54.202\" x2=\"300.006\" y2=\"20.0\" stroke-linecap=\"round\" style=\"stroke:rgb(164,27,18);stroke-width:4\"/><line x1=\"300.006\" y1=\"20.0\" x2=\"400.006\" y2=\"20.0\" stroke-linecap=\"round\" style=\"stroke:rgb(68,83,57);stroke-width:4\"/><line x1=\"400.006\" y1=\"20.0\" x2=\"494.588\" y2=\"52.47\" stroke-linecap=\"round\" style=\"stroke:rgb(68,83,57);stroke-width:4\"/><line x1=\"494.588\" y1=\"52.47\" x2=\"573.502\" y2=\"113.891\" stroke-linecap=\"round\" style=\"stroke:rgb(68,83,57);stroke-width:4\"/><line x1=\"573.502\" y1=\"113.891\" x2=\"628.197\" y2=\"197.608\" stroke-linecap=\"round\" style=\"stroke:rgb(68,83,57);stroke-width:4\"/><line x1=\"628.197\" y1=\"197.608\" x2=\"652.746\" y2=\"294.548\" stroke-linecap=\"round\" style=\"stroke:rgb(68,83,57);stroke-width:4\"/><line x1=\"652.746\" y1=\"294.548\" x2=\"644.488\" y2=\"394.206\" stroke-linecap=\"round\" style=\"stroke:rgb(68,83,57);stroke-width:4\"/><line x1=\"644.488\" y1=\"394.206\" x2=\"604.318\" y2=\"485.783\" stroke-linecap=\"round\" style=\"stroke:rgb(68,83,57);stroke-width:4\"/><line x1=\"604.318\" y1=\"485.783\" x2=\"536.59\" y2=\"559.355\" stroke-linecap=\"round\" style=\"stroke:rgb(68,83,57);stroke-width:4\"/><line x1=\"536.59\" y1=\"559.355\" x2=\"448.643\" y2=\"606.95\" stroke-linecap=\"round\" style=\"stroke:rgb(68,83,57);stroke-width:4\"/><line x1=\"448.643\" y1=\"606.95\" x2=\"350.007\" y2=\"623.409\" stroke-linecap=\"round\" style=\"stroke:rgb(68,83,57);stroke-width:4\"/><line x1=\"350.007\" y1=\"623.409\" x2=\"251.371\" y2=\"606.95\" stroke-linecap=\"round\" style=\"stroke:rgb(68,83,57);stroke-width:4\"/><line x1=\"251.371\" y1=\"606.95\" x2=\"163.424\" y2=\"559.355\" stroke-linecap=\"round\" style=\"stroke:rgb(68,83,57);stroke-width:4\"/><line x1=\"163.424\" y1=\"559.355\" x2=\"95.696\" y2=\"485.783\" stroke-linecap=\"round\" style=\"stroke:rgb(68,83,57);stroke-width:4\"/><line x1=\"95.696\" y1=\"485.783\" x2=\"55.526\" y2=\"394.206\" stroke-linecap=\"round\" style=\"stroke:rgb(68,83,57);stroke-width:4\"/><line x1=\"55.526\" y1=\"394.206\" x2=\"47.268\" y2=\"294.548\" stroke-linecap=\"round\" style=\"stroke:rgb(68,83,57);stroke-width:4\"/><line x1=\"47.268\" y1=\"294.548\" x2=\"71.817\" y2=\"197.608\" stroke-linecap=\"round\" style=\"stroke:rgb(68,83,57);stroke-width:4\"/><line x1=\"71.817\" y1=\"197.608\" x2=\"126.512\" y2=\"113.891\" stroke-linecap=\"round\" style=\"stroke:rgb(68,83,57);stroke-width:4\"/><line x1=\"126.512\" y1=\"113.891\" x2=\"205.426\" y2=\"52.47\" stroke-linecap=\"round\" style=\"stroke:rgb(68,83,57);stroke-width:4\"/><line x1=\"205.426\" y1=\"52.47\" x2=\"300.008\" y2=\"20.0\" stroke-linecap=\"round\" style=\"stroke:rgb(68,83,57);stroke-width:4\"/><line x1=\"300.008\" y1=\"20.0\" x2=\"400.008\" y2=\"20.0\" stroke-linecap=\"round\" style=\"stroke:rgb(204,215,36);stroke-width:4\"/><line x1=\"400.008\" y1=\"20.0\" x2=\"495.114\" y2=\"50.902\" stroke-linecap=\"round\" style=\"stroke:rgb(204,215,36);stroke-width:4\"/><line x1=\"495.114\" y1=\"50.902\" x2=\"576.016\" y2=\"109.681\" stroke-linecap=\"round\" style=\"stroke:rgb(204,215,36);stroke-width:4\"/><line x1=\"576.016\" y1=\"109.681\" x2=\"634.795\" y2=\"190.583\" stroke-linecap=\"round\" style=\"stroke:rgb(204,215,36);stroke-width:4\"/><line x1=\"634.795\" y1=\"190.583\" x2=\"665.697\" y2=\"285.689\" stroke-linecap=\"round\" style=\"stroke:rgb(204,215,36);stroke-width:4\"/><line x1=\"665.697\" y1=\"285.689\" x2=\"665.697\" y2=\"385.689\" stroke-linecap=\"round\" style=\"stroke:rgb(204,215,36);stroke-width:4\"/><line x1=\"665.697\" y1=\"385.689\" x2=\"634.795\" y2=\"480.795\" stroke-linecap=\"round\" style=\"stroke:rgb(204,215,36);stroke-width:4\"/><line x1=\"634.795\" y1=\"480.795\" x2=\"576.016\" y2=\"561.697\" stroke-linecap=\"round\" style=\"stroke:rgb(204,215,36);stroke-width:4\"/><line x1=\"576.016\" y1=\"561.697\" x2=\"495.114\" y2=\"620.476\" stroke-linecap=\"round\" style=\"stroke:rgb(204,215,36);stroke-width:4\"/><line x1=\"495.114\" y1=\"620.476\" x2=\"400.008\" y2=\"651.378\" stroke-linecap=\"round\" style=\"stroke:rgb(204,215,36);stroke-width:4\"/><line x1=\"400.008\" y1=\"651.378\" x2=\"300.008\" y2=\"651.378\" stroke-linecap=\"round\" style=\"stroke:rgb(204,215,36);stroke-width:4\"/><line x1=\"300.008\" y1=\"651.378\" x2=\"204.902\" y2=\"620.476\" stroke-linecap=\"round\" style=\"stroke:rgb(204,215,36);stroke-width:4\"/><line x1=\"204.902\" y1=\"620.476\" x2=\"124.0\" y2=\"561.697\" stroke-linecap=\"round\" style=\"stroke:rgb(204,215,36);stroke-width:4\"/><line x1=\"124.0\" y1=\"561.697\" x2=\"65.221\" y2=\"480.795\" stroke-linecap=\"round\" style=\"stroke:rgb(204,215,36);stroke-width:4\"/><line x1=\"65.221\" y1=\"480.795\" x2=\"34.319\" y2=\"385.689\" stroke-linecap=\"round\" style=\"stroke:rgb(204,215,36);stroke-width:4\"/><line x1=\"34.319\" y1=\"385.689\" x2=\"34.319\" y2=\"285.689\" stroke-linecap=\"round\" style=\"stroke:rgb(204,215,36);stroke-width:4\"/><line x1=\"34.319\" y1=\"285.689\" x2=\"65.221\" y2=\"190.583\" stroke-linecap=\"round\" style=\"stroke:rgb(204,215,36);stroke-width:4\"/><line x1=\"65.221\" y1=\"190.583\" x2=\"124.0\" y2=\"109.681\" stroke-linecap=\"round\" style=\"stroke:rgb(204,215,36);stroke-width:4\"/><line x1=\"124.0\" y1=\"109.681\" x2=\"204.902\" y2=\"50.902\" stroke-linecap=\"round\" style=\"stroke:rgb(204,215,36);stroke-width:4\"/><line x1=\"204.902\" y1=\"50.902\" x2=\"300.008\" y2=\"20.0\" stroke-linecap=\"round\" style=\"stroke:rgb(204,215,36);stroke-width:4\"/>\n",
              "        <g visibility=visible transform=\"rotate(90.0,300.008,20.0) translate(282.008, 2.0)\">\n",
              "<path style=\" stroke:none;fill-rule:evenodd;fill:rgb(204,215,36);fill-opacity:1;\" d=\"M 18.214844 0.632812 C 16.109375 1.800781 15.011719 4.074219 15.074219 7.132812 L 15.085938 7.652344 L 14.785156 7.496094 C 13.476562 6.824219 11.957031 6.671875 10.40625 7.066406 C 8.46875 7.550781 6.515625 9.15625 4.394531 11.992188 C 3.0625 13.777344 2.679688 14.636719 3.042969 15.027344 L 3.15625 15.152344 L 3.519531 15.152344 C 4.238281 15.152344 4.828125 14.886719 8.1875 13.039062 C 9.386719 12.378906 10.371094 11.839844 10.378906 11.839844 C 10.386719 11.839844 10.355469 11.929688 10.304688 12.035156 C 9.832031 13.09375 9.257812 14.820312 8.96875 16.078125 C 7.914062 20.652344 8.617188 24.53125 11.070312 27.660156 C 11.351562 28.015625 11.363281 27.914062 10.972656 28.382812 C 8.925781 30.84375 7.945312 33.28125 8.238281 35.1875 C 8.289062 35.527344 8.28125 35.523438 8.917969 35.523438 C 10.941406 35.523438 13.074219 34.207031 15.136719 31.6875 C 15.359375 31.417969 15.328125 31.425781 15.5625 31.574219 C 16.292969 32.042969 18.023438 32.964844 18.175781 32.964844 C 18.335938 32.964844 19.941406 32.210938 20.828125 31.71875 C 20.996094 31.625 21.136719 31.554688 21.136719 31.558594 C 21.203125 31.664062 21.898438 32.414062 22.222656 32.730469 C 23.835938 34.300781 25.5625 35.132812 27.582031 35.300781 C 27.90625 35.328125 27.9375 35.308594 28.007812 34.984375 C 28.382812 33.242188 27.625 30.925781 25.863281 28.425781 L 25.542969 27.96875 L 25.699219 27.785156 C 28.945312 23.960938 29.132812 18.699219 26.257812 11.96875 L 26.207031 11.84375 L 27.945312 12.703125 C 31.53125 14.476562 32.316406 14.800781 33.03125 14.800781 C 33.976562 14.800781 33.78125 13.9375 32.472656 12.292969 C 28.519531 7.355469 25.394531 5.925781 21.921875 7.472656 L 21.558594 7.636719 L 21.578125 7.542969 C 21.699219 6.992188 21.761719 5.742188 21.699219 5.164062 C 21.496094 3.296875 20.664062 1.964844 19.003906 0.855469 C 18.480469 0.503906 18.457031 0.5 18.214844 0.632812\"/>\n",
              "</g>\n",
              "      </svg>\n",
              "    "
            ],
            "text/plain": [
              "<IPython.core.display.HTML object>"
            ]
          },
          "metadata": {
            "tags": []
          }
        },
        {
          "output_type": "stream",
          "text": [
            "3\n",
            "4\n",
            "5\n",
            "6\n",
            "7\n",
            "8\n",
            "9\n",
            "10\n",
            "11\n",
            "12\n",
            "13\n",
            "14\n",
            "15\n",
            "16\n",
            "17\n",
            "18\n",
            "19\n",
            "20\n"
          ],
          "name": "stdout"
        }
      ]
    },
    {
      "cell_type": "code",
      "metadata": {
        "colab": {
          "base_uri": "https://localhost:8080/",
          "height": 161
        },
        "id": "OvpWTNCimP1_",
        "outputId": "9056689e-dcc1-4e43-9c05-616d149c80ff"
      },
      "source": [
        "randint(0, 255),"
      ],
      "execution_count": null,
      "outputs": [
        {
          "output_type": "error",
          "ename": "NameError",
          "evalue": "ignored",
          "traceback": [
            "\u001b[0;31m---------------------------------------------------------------------------\u001b[0m",
            "\u001b[0;31mNameError\u001b[0m                                 Traceback (most recent call last)",
            "\u001b[0;32m<ipython-input-27-74d3b068b2d8>\u001b[0m in \u001b[0;36m<module>\u001b[0;34m()\u001b[0m\n\u001b[0;32m----> 1\u001b[0;31m \u001b[0mrandint\u001b[0m\u001b[0;34m(\u001b[0m\u001b[0;36m0\u001b[0m\u001b[0;34m,\u001b[0m \u001b[0;36m255\u001b[0m\u001b[0;34m)\u001b[0m\u001b[0;34m,\u001b[0m\u001b[0;34m\u001b[0m\u001b[0;34m\u001b[0m\u001b[0m\n\u001b[0m",
            "\u001b[0;31mNameError\u001b[0m: name 'randint' is not defined"
          ]
        }
      ]
    },
    {
      "cell_type": "code",
      "metadata": {
        "colab": {
          "base_uri": "https://localhost:8080/",
          "height": 521
        },
        "id": "YJOgrt7KZmis",
        "outputId": "5464f2d9-de5d-4225-d2fc-54c8bb29e789"
      },
      "source": [
        "from ColabTurtle.Turtle import *\n",
        "initializeTurtle()\n",
        "\n",
        "color('mediumblue')\n",
        "penup()\n",
        "goto(100, 250)\n",
        "pendown()\n",
        "forward(100)\n",
        "left(90)\n",
        "forward(40)\n",
        "right(180)\n",
        "forward(80)\n",
        "penup()\n",
        "right(90)\n",
        "forward(50)\n",
        "left(90)\n",
        "forward(50)\n",
        "left(90)\n",
        "backward(10)\n",
        "pendown()\n",
        "speed(10)\n",
        "for i in range(18):\n",
        "    forward(17)\n",
        "    right(20)\n",
        "penup()\n",
        "shape('circle')\n",
        "color(230, 90, 120)\n",
        "speed(7)\n",
        "right(90)\n",
        "forward(160)\n",
        "left(90)\n",
        "forward(60)\n",
        "right(180)\n",
        "pendown()\n",
        "forward(100)\n",
        "left(90)\n",
        "forward(80)\n",
        "penup()\n",
        "shape('turtle')\n",
        "forward(50)\n",
        "left(90)\n",
        "forward(40)\n",
        "pendown()\n",
        "for i in range(5):\n",
        "    forward(17)\n",
        "    right(20)\n",
        "left(200)\n",
        "for i in range(13):\n",
        "    forward(17)\n",
        "    left(20)\n",
        "left(90)\n",
        "forward(50)\n",
        "penup()\n",
        "backward(100)\n",
        "left(90)\n",
        "forward(40)\n",
        "pendown()\n",
        "left(155)\n",
        "forward(105)\n",
        "right(130)\n",
        "forward(105)\n",
        "backward(45)\n",
        "right(115)\n",
        "forward(50)\n",
        "bgcolor(\"#efefef\")\n",
        "penup()\n",
        "backward(70)\n",
        "left(90)\n",
        "forward(100)\n",
        "right(90)\n",
        "pencolor('black')\n",
        "pensize(7)\n",
        "pendown()\n",
        "forward(650)\n",
        "left(180)\n",
        "speed(12)\n",
        "for i in range(90):\n",
        "    forward(7)\n",
        "    right(0.2)\n",
        "speed(2)\n",
        "left(18+180)\n",
        "penup()\n",
        "forward(300)\n",
        "setheading(270)\n",
        "write(\"ColabTurtle\", align=\"center\", font=(25, \"Arial\", \"italic\"))\n",
        "color('rgb(70 110 70)')\n",
        "backward(40)"
      ],
      "execution_count": null,
      "outputs": [
        {
          "output_type": "display_data",
          "data": {
            "text/html": [
              "\n",
              "      <svg width=\"800\" height=\"500\">\n",
              "        <rect width=\"100%\" height=\"100%\" fill=\"#efefef\"/>\n",
              "        <line x1=\"100\" y1=\"250\" x2=\"100.0\" y2=\"150.0\" stroke-linecap=\"round\" style=\"stroke:mediumblue;stroke-width:4\"/><line x1=\"100.0\" y1=\"150.0\" x2=\"60.0\" y2=\"150.0\" stroke-linecap=\"round\" style=\"stroke:mediumblue;stroke-width:4\"/><line x1=\"60.0\" y1=\"150.0\" x2=\"140.0\" y2=\"150.0\" stroke-linecap=\"round\" style=\"stroke:mediumblue;stroke-width:4\"/><line x1=\"190.0\" y1=\"210.0\" x2=\"190.0\" y2=\"193.0\" stroke-linecap=\"round\" style=\"stroke:mediumblue;stroke-width:4\"/><line x1=\"190.0\" y1=\"193.0\" x2=\"195.814\" y2=\"177.025\" stroke-linecap=\"round\" style=\"stroke:mediumblue;stroke-width:4\"/><line x1=\"195.814\" y1=\"177.025\" x2=\"206.741\" y2=\"164.002\" stroke-linecap=\"round\" style=\"stroke:mediumblue;stroke-width:4\"/><line x1=\"206.741\" y1=\"164.002\" x2=\"221.463\" y2=\"155.502\" stroke-linecap=\"round\" style=\"stroke:mediumblue;stroke-width:4\"/><line x1=\"221.463\" y1=\"155.502\" x2=\"238.205\" y2=\"152.55\" stroke-linecap=\"round\" style=\"stroke:mediumblue;stroke-width:4\"/><line x1=\"238.205\" y1=\"152.55\" x2=\"254.947\" y2=\"155.502\" stroke-linecap=\"round\" style=\"stroke:mediumblue;stroke-width:4\"/><line x1=\"254.947\" y1=\"155.502\" x2=\"269.669\" y2=\"164.002\" stroke-linecap=\"round\" style=\"stroke:mediumblue;stroke-width:4\"/><line x1=\"269.669\" y1=\"164.002\" x2=\"280.596\" y2=\"177.025\" stroke-linecap=\"round\" style=\"stroke:mediumblue;stroke-width:4\"/><line x1=\"280.596\" y1=\"177.025\" x2=\"286.41\" y2=\"193.0\" stroke-linecap=\"round\" style=\"stroke:mediumblue;stroke-width:4\"/><line x1=\"286.41\" y1=\"193.0\" x2=\"286.41\" y2=\"210.0\" stroke-linecap=\"round\" style=\"stroke:mediumblue;stroke-width:4\"/><line x1=\"286.41\" y1=\"210.0\" x2=\"280.596\" y2=\"225.975\" stroke-linecap=\"round\" style=\"stroke:mediumblue;stroke-width:4\"/><line x1=\"280.596\" y1=\"225.975\" x2=\"269.669\" y2=\"238.998\" stroke-linecap=\"round\" style=\"stroke:mediumblue;stroke-width:4\"/><line x1=\"269.669\" y1=\"238.998\" x2=\"254.947\" y2=\"247.498\" stroke-linecap=\"round\" style=\"stroke:mediumblue;stroke-width:4\"/><line x1=\"254.947\" y1=\"247.498\" x2=\"238.205\" y2=\"250.45\" stroke-linecap=\"round\" style=\"stroke:mediumblue;stroke-width:4\"/><line x1=\"238.205\" y1=\"250.45\" x2=\"221.463\" y2=\"247.498\" stroke-linecap=\"round\" style=\"stroke:mediumblue;stroke-width:4\"/><line x1=\"221.463\" y1=\"247.498\" x2=\"206.741\" y2=\"238.998\" stroke-linecap=\"round\" style=\"stroke:mediumblue;stroke-width:4\"/><line x1=\"206.741\" y1=\"238.998\" x2=\"195.814\" y2=\"225.975\" stroke-linecap=\"round\" style=\"stroke:mediumblue;stroke-width:4\"/><line x1=\"195.814\" y1=\"225.975\" x2=\"190.0\" y2=\"210.0\" stroke-linecap=\"round\" style=\"stroke:mediumblue;stroke-width:4\"/><line x1=\"350.0\" y1=\"150.0\" x2=\"350.0\" y2=\"250.0\" stroke-linecap=\"round\" style=\"stroke:rgb(230,90,120);stroke-width:4\"/><line x1=\"350.0\" y1=\"250.0\" x2=\"430.0\" y2=\"250.0\" stroke-linecap=\"round\" style=\"stroke:rgb(230,90,120);stroke-width:4\"/><line x1=\"480.0\" y1=\"210.0\" x2=\"480.0\" y2=\"193.0\" stroke-linecap=\"round\" style=\"stroke:rgb(230,90,120);stroke-width:4\"/><line x1=\"480.0\" y1=\"193.0\" x2=\"485.814\" y2=\"177.025\" stroke-linecap=\"round\" style=\"stroke:rgb(230,90,120);stroke-width:4\"/><line x1=\"485.814\" y1=\"177.025\" x2=\"496.741\" y2=\"164.002\" stroke-linecap=\"round\" style=\"stroke:rgb(230,90,120);stroke-width:4\"/><line x1=\"496.741\" y1=\"164.002\" x2=\"511.463\" y2=\"155.502\" stroke-linecap=\"round\" style=\"stroke:rgb(230,90,120);stroke-width:4\"/><line x1=\"511.463\" y1=\"155.502\" x2=\"528.205\" y2=\"152.55\" stroke-linecap=\"round\" style=\"stroke:rgb(230,90,120);stroke-width:4\"/><line x1=\"528.205\" y1=\"152.55\" x2=\"511.463\" y2=\"155.502\" stroke-linecap=\"round\" style=\"stroke:rgb(230,90,120);stroke-width:4\"/><line x1=\"511.463\" y1=\"155.502\" x2=\"496.741\" y2=\"164.002\" stroke-linecap=\"round\" style=\"stroke:rgb(230,90,120);stroke-width:4\"/><line x1=\"496.741\" y1=\"164.002\" x2=\"485.814\" y2=\"177.025\" stroke-linecap=\"round\" style=\"stroke:rgb(230,90,120);stroke-width:4\"/><line x1=\"485.814\" y1=\"177.025\" x2=\"480.0\" y2=\"193.0\" stroke-linecap=\"round\" style=\"stroke:rgb(230,90,120);stroke-width:4\"/><line x1=\"480.0\" y1=\"193.0\" x2=\"480.0\" y2=\"210.0\" stroke-linecap=\"round\" style=\"stroke:rgb(230,90,120);stroke-width:4\"/><line x1=\"480.0\" y1=\"210.0\" x2=\"485.814\" y2=\"225.975\" stroke-linecap=\"round\" style=\"stroke:rgb(230,90,120);stroke-width:4\"/><line x1=\"485.814\" y1=\"225.975\" x2=\"496.741\" y2=\"238.998\" stroke-linecap=\"round\" style=\"stroke:rgb(230,90,120);stroke-width:4\"/><line x1=\"496.741\" y1=\"238.998\" x2=\"511.463\" y2=\"247.498\" stroke-linecap=\"round\" style=\"stroke:rgb(230,90,120);stroke-width:4\"/><line x1=\"511.463\" y1=\"247.498\" x2=\"528.205\" y2=\"250.45\" stroke-linecap=\"round\" style=\"stroke:rgb(230,90,120);stroke-width:4\"/><line x1=\"528.205\" y1=\"250.45\" x2=\"544.947\" y2=\"247.498\" stroke-linecap=\"round\" style=\"stroke:rgb(230,90,120);stroke-width:4\"/><line x1=\"544.947\" y1=\"247.498\" x2=\"559.669\" y2=\"238.998\" stroke-linecap=\"round\" style=\"stroke:rgb(230,90,120);stroke-width:4\"/><line x1=\"559.669\" y1=\"238.998\" x2=\"570.596\" y2=\"225.975\" stroke-linecap=\"round\" style=\"stroke:rgb(230,90,120);stroke-width:4\"/><line x1=\"570.596\" y1=\"225.975\" x2=\"576.41\" y2=\"210.0\" stroke-linecap=\"round\" style=\"stroke:rgb(230,90,120);stroke-width:4\"/><line x1=\"576.41\" y1=\"210.0\" x2=\"526.41\" y2=\"210.0\" stroke-linecap=\"round\" style=\"stroke:rgb(230,90,120);stroke-width:4\"/><line x1=\"626.41\" y1=\"250.0\" x2=\"670.785\" y2=\"154.838\" stroke-linecap=\"round\" style=\"stroke:rgb(230,90,120);stroke-width:4\"/><line x1=\"670.785\" y1=\"154.838\" x2=\"715.16\" y2=\"250.0\" stroke-linecap=\"round\" style=\"stroke:rgb(230,90,120);stroke-width:4\"/><line x1=\"715.16\" y1=\"250.0\" x2=\"696.142\" y2=\"209.216\" stroke-linecap=\"round\" style=\"stroke:rgb(230,90,120);stroke-width:4\"/><line x1=\"696.142\" y1=\"209.216\" x2=\"646.142\" y2=\"209.216\" stroke-linecap=\"round\" style=\"stroke:rgb(230,90,120);stroke-width:4\"/><line x1=\"716.142\" y1=\"309.216\" x2=\"66.142\" y2=\"309.216\" stroke-linecap=\"round\" style=\"stroke:black;stroke-width:7\"/><line x1=\"66.142\" y1=\"309.216\" x2=\"73.142\" y2=\"309.216\" stroke-linecap=\"round\" style=\"stroke:black;stroke-width:7\"/><line x1=\"73.142\" y1=\"309.216\" x2=\"80.142\" y2=\"309.24\" stroke-linecap=\"round\" style=\"stroke:black;stroke-width:7\"/><line x1=\"80.142\" y1=\"309.24\" x2=\"87.142\" y2=\"309.289\" stroke-linecap=\"round\" style=\"stroke:black;stroke-width:7\"/><line x1=\"87.142\" y1=\"309.289\" x2=\"94.142\" y2=\"309.362\" stroke-linecap=\"round\" style=\"stroke:black;stroke-width:7\"/><line x1=\"94.142\" y1=\"309.362\" x2=\"101.141\" y2=\"309.46\" stroke-linecap=\"round\" style=\"stroke:black;stroke-width:7\"/><line x1=\"101.141\" y1=\"309.46\" x2=\"108.14\" y2=\"309.582\" stroke-linecap=\"round\" style=\"stroke:black;stroke-width:7\"/><line x1=\"108.14\" y1=\"309.582\" x2=\"115.138\" y2=\"309.729\" stroke-linecap=\"round\" style=\"stroke:black;stroke-width:7\"/><line x1=\"115.138\" y1=\"309.729\" x2=\"122.136\" y2=\"309.9\" stroke-linecap=\"round\" style=\"stroke:black;stroke-width:7\"/><line x1=\"122.136\" y1=\"309.9\" x2=\"129.133\" y2=\"310.095\" stroke-linecap=\"round\" style=\"stroke:black;stroke-width:7\"/><line x1=\"129.133\" y1=\"310.095\" x2=\"136.13\" y2=\"310.315\" stroke-linecap=\"round\" style=\"stroke:black;stroke-width:7\"/><line x1=\"136.13\" y1=\"310.315\" x2=\"143.126\" y2=\"310.559\" stroke-linecap=\"round\" style=\"stroke:black;stroke-width:7\"/><line x1=\"143.126\" y1=\"310.559\" x2=\"150.121\" y2=\"310.828\" stroke-linecap=\"round\" style=\"stroke:black;stroke-width:7\"/><line x1=\"150.121\" y1=\"310.828\" x2=\"157.115\" y2=\"311.121\" stroke-linecap=\"round\" style=\"stroke:black;stroke-width:7\"/><line x1=\"157.115\" y1=\"311.121\" x2=\"164.108\" y2=\"311.439\" stroke-linecap=\"round\" style=\"stroke:black;stroke-width:7\"/><line x1=\"164.108\" y1=\"311.439\" x2=\"171.1\" y2=\"311.781\" stroke-linecap=\"round\" style=\"stroke:black;stroke-width:7\"/><line x1=\"171.1\" y1=\"311.781\" x2=\"178.09\" y2=\"312.147\" stroke-linecap=\"round\" style=\"stroke:black;stroke-width:7\"/><line x1=\"178.09\" y1=\"312.147\" x2=\"185.079\" y2=\"312.538\" stroke-linecap=\"round\" style=\"stroke:black;stroke-width:7\"/><line x1=\"185.079\" y1=\"312.538\" x2=\"192.067\" y2=\"312.953\" stroke-linecap=\"round\" style=\"stroke:black;stroke-width:7\"/><line x1=\"192.067\" y1=\"312.953\" x2=\"199.053\" y2=\"313.393\" stroke-linecap=\"round\" style=\"stroke:black;stroke-width:7\"/><line x1=\"199.053\" y1=\"313.393\" x2=\"206.038\" y2=\"313.857\" stroke-linecap=\"round\" style=\"stroke:black;stroke-width:7\"/><line x1=\"206.038\" y1=\"313.857\" x2=\"213.021\" y2=\"314.345\" stroke-linecap=\"round\" style=\"stroke:black;stroke-width:7\"/><line x1=\"213.021\" y1=\"314.345\" x2=\"220.002\" y2=\"314.858\" stroke-linecap=\"round\" style=\"stroke:black;stroke-width:7\"/><line x1=\"220.002\" y1=\"314.858\" x2=\"226.981\" y2=\"315.395\" stroke-linecap=\"round\" style=\"stroke:black;stroke-width:7\"/><line x1=\"226.981\" y1=\"315.395\" x2=\"233.958\" y2=\"315.956\" stroke-linecap=\"round\" style=\"stroke:black;stroke-width:7\"/><line x1=\"233.958\" y1=\"315.956\" x2=\"240.933\" y2=\"316.542\" stroke-linecap=\"round\" style=\"stroke:black;stroke-width:7\"/><line x1=\"240.933\" y1=\"316.542\" x2=\"247.906\" y2=\"317.152\" stroke-linecap=\"round\" style=\"stroke:black;stroke-width:7\"/><line x1=\"247.906\" y1=\"317.152\" x2=\"254.877\" y2=\"317.786\" stroke-linecap=\"round\" style=\"stroke:black;stroke-width:7\"/><line x1=\"254.877\" y1=\"317.786\" x2=\"261.846\" y2=\"318.445\" stroke-linecap=\"round\" style=\"stroke:black;stroke-width:7\"/><line x1=\"261.846\" y1=\"318.445\" x2=\"268.813\" y2=\"319.128\" stroke-linecap=\"round\" style=\"stroke:black;stroke-width:7\"/><line x1=\"268.813\" y1=\"319.128\" x2=\"275.777\" y2=\"319.835\" stroke-linecap=\"round\" style=\"stroke:black;stroke-width:7\"/><line x1=\"275.777\" y1=\"319.835\" x2=\"282.739\" y2=\"320.567\" stroke-linecap=\"round\" style=\"stroke:black;stroke-width:7\"/><line x1=\"282.739\" y1=\"320.567\" x2=\"289.698\" y2=\"321.323\" stroke-linecap=\"round\" style=\"stroke:black;stroke-width:7\"/><line x1=\"289.698\" y1=\"321.323\" x2=\"296.654\" y2=\"322.103\" stroke-linecap=\"round\" style=\"stroke:black;stroke-width:7\"/><line x1=\"296.654\" y1=\"322.103\" x2=\"303.608\" y2=\"322.908\" stroke-linecap=\"round\" style=\"stroke:black;stroke-width:7\"/><line x1=\"303.608\" y1=\"322.908\" x2=\"310.559\" y2=\"323.737\" stroke-linecap=\"round\" style=\"stroke:black;stroke-width:7\"/><line x1=\"310.559\" y1=\"323.737\" x2=\"317.507\" y2=\"324.59\" stroke-linecap=\"round\" style=\"stroke:black;stroke-width:7\"/><line x1=\"317.507\" y1=\"324.59\" x2=\"324.452\" y2=\"325.467\" stroke-linecap=\"round\" style=\"stroke:black;stroke-width:7\"/><line x1=\"324.452\" y1=\"325.467\" x2=\"331.394\" y2=\"326.369\" stroke-linecap=\"round\" style=\"stroke:black;stroke-width:7\"/><line x1=\"331.394\" y1=\"326.369\" x2=\"338.333\" y2=\"327.295\" stroke-linecap=\"round\" style=\"stroke:black;stroke-width:7\"/><line x1=\"338.333\" y1=\"327.295\" x2=\"345.268\" y2=\"328.245\" stroke-linecap=\"round\" style=\"stroke:black;stroke-width:7\"/><line x1=\"345.268\" y1=\"328.245\" x2=\"352.2\" y2=\"329.219\" stroke-linecap=\"round\" style=\"stroke:black;stroke-width:7\"/><line x1=\"352.2\" y1=\"329.219\" x2=\"359.128\" y2=\"330.217\" stroke-linecap=\"round\" style=\"stroke:black;stroke-width:7\"/><line x1=\"359.128\" y1=\"330.217\" x2=\"366.053\" y2=\"331.24\" stroke-linecap=\"round\" style=\"stroke:black;stroke-width:7\"/><line x1=\"366.053\" y1=\"331.24\" x2=\"372.974\" y2=\"332.287\" stroke-linecap=\"round\" style=\"stroke:black;stroke-width:7\"/><line x1=\"372.974\" y1=\"332.287\" x2=\"379.892\" y2=\"333.358\" stroke-linecap=\"round\" style=\"stroke:black;stroke-width:7\"/><line x1=\"379.892\" y1=\"333.358\" x2=\"386.806\" y2=\"334.453\" stroke-linecap=\"round\" style=\"stroke:black;stroke-width:7\"/><line x1=\"386.806\" y1=\"334.453\" x2=\"393.716\" y2=\"335.572\" stroke-linecap=\"round\" style=\"stroke:black;stroke-width:7\"/><line x1=\"393.716\" y1=\"335.572\" x2=\"400.622\" y2=\"336.715\" stroke-linecap=\"round\" style=\"stroke:black;stroke-width:7\"/><line x1=\"400.622\" y1=\"336.715\" x2=\"407.524\" y2=\"337.882\" stroke-linecap=\"round\" style=\"stroke:black;stroke-width:7\"/><line x1=\"407.524\" y1=\"337.882\" x2=\"414.422\" y2=\"339.073\" stroke-linecap=\"round\" style=\"stroke:black;stroke-width:7\"/><line x1=\"414.422\" y1=\"339.073\" x2=\"421.316\" y2=\"340.289\" stroke-linecap=\"round\" style=\"stroke:black;stroke-width:7\"/><line x1=\"421.316\" y1=\"340.289\" x2=\"428.205\" y2=\"341.529\" stroke-linecap=\"round\" style=\"stroke:black;stroke-width:7\"/><line x1=\"428.205\" y1=\"341.529\" x2=\"435.09\" y2=\"342.793\" stroke-linecap=\"round\" style=\"stroke:black;stroke-width:7\"/><line x1=\"435.09\" y1=\"342.793\" x2=\"441.971\" y2=\"344.081\" stroke-linecap=\"round\" style=\"stroke:black;stroke-width:7\"/><line x1=\"441.971\" y1=\"344.081\" x2=\"448.847\" y2=\"345.393\" stroke-linecap=\"round\" style=\"stroke:black;stroke-width:7\"/><line x1=\"448.847\" y1=\"345.393\" x2=\"455.718\" y2=\"346.729\" stroke-linecap=\"round\" style=\"stroke:black;stroke-width:7\"/><line x1=\"455.718\" y1=\"346.729\" x2=\"462.585\" y2=\"348.089\" stroke-linecap=\"round\" style=\"stroke:black;stroke-width:7\"/><line x1=\"462.585\" y1=\"348.089\" x2=\"469.447\" y2=\"349.473\" stroke-linecap=\"round\" style=\"stroke:black;stroke-width:7\"/><line x1=\"469.447\" y1=\"349.473\" x2=\"476.304\" y2=\"350.881\" stroke-linecap=\"round\" style=\"stroke:black;stroke-width:7\"/><line x1=\"476.304\" y1=\"350.881\" x2=\"483.156\" y2=\"352.312\" stroke-linecap=\"round\" style=\"stroke:black;stroke-width:7\"/><line x1=\"483.156\" y1=\"352.312\" x2=\"490.003\" y2=\"353.767\" stroke-linecap=\"round\" style=\"stroke:black;stroke-width:7\"/><line x1=\"490.003\" y1=\"353.767\" x2=\"496.845\" y2=\"355.246\" stroke-linecap=\"round\" style=\"stroke:black;stroke-width:7\"/><line x1=\"496.845\" y1=\"355.246\" x2=\"503.682\" y2=\"356.749\" stroke-linecap=\"round\" style=\"stroke:black;stroke-width:7\"/><line x1=\"503.682\" y1=\"356.749\" x2=\"510.513\" y2=\"358.276\" stroke-linecap=\"round\" style=\"stroke:black;stroke-width:7\"/><line x1=\"510.513\" y1=\"358.276\" x2=\"517.339\" y2=\"359.827\" stroke-linecap=\"round\" style=\"stroke:black;stroke-width:7\"/><line x1=\"517.339\" y1=\"359.827\" x2=\"524.16\" y2=\"361.402\" stroke-linecap=\"round\" style=\"stroke:black;stroke-width:7\"/><line x1=\"524.16\" y1=\"361.402\" x2=\"530.975\" y2=\"363.0\" stroke-linecap=\"round\" style=\"stroke:black;stroke-width:7\"/><line x1=\"530.975\" y1=\"363.0\" x2=\"537.784\" y2=\"364.622\" stroke-linecap=\"round\" style=\"stroke:black;stroke-width:7\"/><line x1=\"537.784\" y1=\"364.622\" x2=\"544.588\" y2=\"366.268\" stroke-linecap=\"round\" style=\"stroke:black;stroke-width:7\"/><line x1=\"544.588\" y1=\"366.268\" x2=\"551.386\" y2=\"367.938\" stroke-linecap=\"round\" style=\"stroke:black;stroke-width:7\"/><line x1=\"551.386\" y1=\"367.938\" x2=\"558.178\" y2=\"369.631\" stroke-linecap=\"round\" style=\"stroke:black;stroke-width:7\"/><line x1=\"558.178\" y1=\"369.631\" x2=\"564.964\" y2=\"371.348\" stroke-linecap=\"round\" style=\"stroke:black;stroke-width:7\"/><line x1=\"564.964\" y1=\"371.348\" x2=\"571.744\" y2=\"373.089\" stroke-linecap=\"round\" style=\"stroke:black;stroke-width:7\"/><line x1=\"571.744\" y1=\"373.089\" x2=\"578.518\" y2=\"374.853\" stroke-linecap=\"round\" style=\"stroke:black;stroke-width:7\"/><line x1=\"578.518\" y1=\"374.853\" x2=\"585.286\" y2=\"376.641\" stroke-linecap=\"round\" style=\"stroke:black;stroke-width:7\"/><line x1=\"585.286\" y1=\"376.641\" x2=\"592.047\" y2=\"378.453\" stroke-linecap=\"round\" style=\"stroke:black;stroke-width:7\"/><line x1=\"592.047\" y1=\"378.453\" x2=\"598.802\" y2=\"380.288\" stroke-linecap=\"round\" style=\"stroke:black;stroke-width:7\"/><line x1=\"598.802\" y1=\"380.288\" x2=\"605.551\" y2=\"382.147\" stroke-linecap=\"round\" style=\"stroke:black;stroke-width:7\"/><line x1=\"605.551\" y1=\"382.147\" x2=\"612.293\" y2=\"384.029\" stroke-linecap=\"round\" style=\"stroke:black;stroke-width:7\"/><line x1=\"612.293\" y1=\"384.029\" x2=\"619.029\" y2=\"385.935\" stroke-linecap=\"round\" style=\"stroke:black;stroke-width:7\"/><line x1=\"619.029\" y1=\"385.935\" x2=\"625.758\" y2=\"387.864\" stroke-linecap=\"round\" style=\"stroke:black;stroke-width:7\"/><line x1=\"625.758\" y1=\"387.864\" x2=\"632.48\" y2=\"389.817\" stroke-linecap=\"round\" style=\"stroke:black;stroke-width:7\"/><line x1=\"632.48\" y1=\"389.817\" x2=\"639.195\" y2=\"391.793\" stroke-linecap=\"round\" style=\"stroke:black;stroke-width:7\"/><line x1=\"639.195\" y1=\"391.793\" x2=\"645.903\" y2=\"393.793\" stroke-linecap=\"round\" style=\"stroke:black;stroke-width:7\"/><line x1=\"645.903\" y1=\"393.793\" x2=\"652.604\" y2=\"395.816\" stroke-linecap=\"round\" style=\"stroke:black;stroke-width:7\"/><line x1=\"652.604\" y1=\"395.816\" x2=\"659.298\" y2=\"397.863\" stroke-linecap=\"round\" style=\"stroke:black;stroke-width:7\"/><line x1=\"659.298\" y1=\"397.863\" x2=\"665.985\" y2=\"399.933\" stroke-linecap=\"round\" style=\"stroke:black;stroke-width:7\"/><line x1=\"665.985\" y1=\"399.933\" x2=\"672.665\" y2=\"402.026\" stroke-linecap=\"round\" style=\"stroke:black;stroke-width:7\"/><line x1=\"672.665\" y1=\"402.026\" x2=\"679.337\" y2=\"404.143\" stroke-linecap=\"round\" style=\"stroke:black;stroke-width:7\"/><line x1=\"679.337\" y1=\"404.143\" x2=\"686.002\" y2=\"406.283\" stroke-linecap=\"round\" style=\"stroke:black;stroke-width:7\"/><text x=\"386.002\" y=\"406.283\" fill=\"black\" text-anchor=\"middle\" style=\"font-size:25px;font-family:'Arial';font-style:italic;\">ColabTurtle</text>\n",
              "        <g visibility=visible transform=\"rotate(360,386.002,446.283) translate(368.002, 428.283)\">\n",
              "<path style=\" stroke:none;fill-rule:evenodd;fill:rgb(70 110 70);fill-opacity:1;\" d=\"M 18.214844 0.632812 C 16.109375 1.800781 15.011719 4.074219 15.074219 7.132812 L 15.085938 7.652344 L 14.785156 7.496094 C 13.476562 6.824219 11.957031 6.671875 10.40625 7.066406 C 8.46875 7.550781 6.515625 9.15625 4.394531 11.992188 C 3.0625 13.777344 2.679688 14.636719 3.042969 15.027344 L 3.15625 15.152344 L 3.519531 15.152344 C 4.238281 15.152344 4.828125 14.886719 8.1875 13.039062 C 9.386719 12.378906 10.371094 11.839844 10.378906 11.839844 C 10.386719 11.839844 10.355469 11.929688 10.304688 12.035156 C 9.832031 13.09375 9.257812 14.820312 8.96875 16.078125 C 7.914062 20.652344 8.617188 24.53125 11.070312 27.660156 C 11.351562 28.015625 11.363281 27.914062 10.972656 28.382812 C 8.925781 30.84375 7.945312 33.28125 8.238281 35.1875 C 8.289062 35.527344 8.28125 35.523438 8.917969 35.523438 C 10.941406 35.523438 13.074219 34.207031 15.136719 31.6875 C 15.359375 31.417969 15.328125 31.425781 15.5625 31.574219 C 16.292969 32.042969 18.023438 32.964844 18.175781 32.964844 C 18.335938 32.964844 19.941406 32.210938 20.828125 31.71875 C 20.996094 31.625 21.136719 31.554688 21.136719 31.558594 C 21.203125 31.664062 21.898438 32.414062 22.222656 32.730469 C 23.835938 34.300781 25.5625 35.132812 27.582031 35.300781 C 27.90625 35.328125 27.9375 35.308594 28.007812 34.984375 C 28.382812 33.242188 27.625 30.925781 25.863281 28.425781 L 25.542969 27.96875 L 25.699219 27.785156 C 28.945312 23.960938 29.132812 18.699219 26.257812 11.96875 L 26.207031 11.84375 L 27.945312 12.703125 C 31.53125 14.476562 32.316406 14.800781 33.03125 14.800781 C 33.976562 14.800781 33.78125 13.9375 32.472656 12.292969 C 28.519531 7.355469 25.394531 5.925781 21.921875 7.472656 L 21.558594 7.636719 L 21.578125 7.542969 C 21.699219 6.992188 21.761719 5.742188 21.699219 5.164062 C 21.496094 3.296875 20.664062 1.964844 19.003906 0.855469 C 18.480469 0.503906 18.457031 0.5 18.214844 0.632812\"/>\n",
              "</g>\n",
              "      </svg>\n",
              "    "
            ],
            "text/plain": [
              "<IPython.core.display.HTML object>"
            ]
          },
          "metadata": {
            "tags": []
          }
        }
      ]
    }
  ]
}